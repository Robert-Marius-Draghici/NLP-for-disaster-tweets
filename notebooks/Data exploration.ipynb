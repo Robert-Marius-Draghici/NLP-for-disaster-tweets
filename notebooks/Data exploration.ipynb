{
 "cells": [
  {
   "cell_type": "markdown",
   "metadata": {},
   "source": [
    "Uncomment below cell only if you run the code in Google Colaboratory."
   ]
  },
  {
   "cell_type": "code",
   "execution_count": 2,
   "metadata": {},
   "outputs": [],
   "source": [
    "# from google.colab import drive\n",
    "# drive.mount('/content/drive')"
   ]
  },
  {
   "cell_type": "code",
   "execution_count": 3,
   "metadata": {
    "colab": {},
    "colab_type": "code",
    "id": "9OBUstYHeOca"
   },
   "outputs": [],
   "source": [
    "import pandas as pd\n",
    "import numpy as np\n",
    "from sklearn.model_selection import train_test_split\n",
    "import spacy\n",
    "from spacy.lang.en.stop_words import STOP_WORDS\n",
    "from spacy.lang.en import English\n",
    "import string\n",
    "import re\n",
    "from bs4 import BeautifulSoup"
   ]
  },
  {
   "cell_type": "code",
   "execution_count": 4,
   "metadata": {
    "colab": {},
    "colab_type": "code",
    "id": "LAqNGBzueUDy"
   },
   "outputs": [],
   "source": [
    "punctuations = string.punctuation\n",
    "stopwords = list(STOP_WORDS)\n",
    "parser = English()"
   ]
  },
  {
   "cell_type": "code",
   "execution_count": 5,
   "metadata": {
    "colab": {},
    "colab_type": "code",
    "id": "jxKTMvLTfB4j"
   },
   "outputs": [],
   "source": [
    "def spacy_tokenizer(sentence):\n",
    "    tokens = parser(sentence)\n",
    "    tokens = [word.lemma_.lower().strip() if word.lemma_ != \"-PRON-\" else word.lower_ for word in tokens]\n",
    "    tokens = [word for word in tokens if word not in stopwords and word not in punctuations]\n",
    "    tokens = \" \".join([i for i in tokens])\n",
    "    return tokens\n",
    "\n",
    "def removeurl(raw_text):\n",
    "    clean_text = re.sub(r'^https?:\\/\\/.*[\\r\\n]*', '', raw_text, flags=re.MULTILINE)\n",
    "    return clean_text"
   ]
  },
  {
   "cell_type": "markdown",
   "metadata": {},
   "source": [
    "If the notebook is run in Google Colaboratory then the path should be changed accordingly."
   ]
  },
  {
   "cell_type": "code",
   "execution_count": 6,
   "metadata": {
    "colab": {},
    "colab_type": "code",
    "id": "f6G6DeagfOSL"
   },
   "outputs": [],
   "source": [
    "train = pd.read_csv('train.csv')\n",
    "test = pd.read_csv('test.csv')"
   ]
  },
  {
   "cell_type": "code",
   "execution_count": 7,
   "metadata": {
    "colab": {
     "base_uri": "https://localhost:8080/",
     "height": 86
    },
    "colab_type": "code",
    "executionInfo": {
     "elapsed": 1245,
     "status": "ok",
     "timestamp": 1589380994013,
     "user": {
      "displayName": "Robert Draghici",
      "photoUrl": "",
      "userId": "10095612114476407977"
     },
     "user_tz": -180
    },
    "id": "Q28ro_hifOs_",
    "outputId": "eb33fa8e-88eb-4ec3-a2d2-8b50c29626e0"
   },
   "outputs": [
    {
     "name": "stdout",
     "output_type": "stream",
     "text": [
      "Mean number of words in train set: 14.903585971364771\n",
      "Mean number of words in test set: 14.965369292062519\n",
      "Mean number of words in train set for target 0: 14.704744357438969\n",
      "Mean number of words in train set for target 1: 15.167532864567411\n"
     ]
    }
   ],
   "source": [
    "train[\"num_words_before_cleaning\"] = train[\"text\"].apply(lambda x: len(str(x).split()))\n",
    "test[\"num_words_before_cleaning\"] = test[\"text\"].apply(lambda x: len(str(x).split()))\n",
    "\n",
    "print(\"Mean number of words in train set: \" + str(train[\"num_words_before_cleaning\"].mean()))\n",
    "print(\"Mean number of words in test set: \" + str(test[\"num_words_before_cleaning\"].mean()))\n",
    "print(\"Mean number of words in train set for target 0: \" + str(train[train.target.eq(0)][\"num_words_before_cleaning\"].mean()))\n",
    "print(\"Mean number of words in train set for target 1: \" + str(train[train.target.eq(1)][\"num_words_before_cleaning\"].mean()))"
   ]
  },
  {
   "cell_type": "code",
   "execution_count": 8,
   "metadata": {
    "colab": {
     "base_uri": "https://localhost:8080/",
     "height": 86
    },
    "colab_type": "code",
    "executionInfo": {
     "elapsed": 779,
     "status": "ok",
     "timestamp": 1589381008748,
     "user": {
      "displayName": "Robert Draghici",
      "photoUrl": "",
      "userId": "10095612114476407977"
     },
     "user_tz": -180
    },
    "id": "dgxVNntsfU6F",
    "outputId": "2d953a5e-db04-4aa2-e4c3-d7b9b3c4822c"
   },
   "outputs": [
    {
     "name": "stdout",
     "output_type": "stream",
     "text": [
      "Mean number of unique words in train set: 14.340732956784448\n",
      "Mean number of unique words in test set: 14.407293901317805\n",
      "Mean number of unique words in train set for target 0: 14.09649930907416\n",
      "Mean number of unique words in train set for target 1: 14.664934270865178\n"
     ]
    }
   ],
   "source": [
    "train[\"num_unique_words_before_cleaning\"] = train[\"text\"].apply(lambda x: len(set(str(x).split())))\n",
    "test[\"num_unique_words_before_cleaning\"] = test[\"text\"].apply(lambda x: len(set(str(x).split())))\n",
    "\n",
    "print(\"Mean number of unique words in train set: \" + str(train[\"num_unique_words_before_cleaning\"].mean()))\n",
    "print(\"Mean number of unique words in test set: \" + str(test[\"num_unique_words_before_cleaning\"].mean()))\n",
    "print(\"Mean number of unique words in train set for target 0: \" + str(train[train.target.eq(0)][\"num_unique_words_before_cleaning\"].mean()))\n",
    "print(\"Mean number of unique words in train set for target 1: \" + str(train[train.target.eq(1)][\"num_unique_words_before_cleaning\"].mean()))"
   ]
  },
  {
   "cell_type": "code",
   "execution_count": 9,
   "metadata": {
    "colab": {
     "base_uri": "https://localhost:8080/",
     "height": 86
    },
    "colab_type": "code",
    "executionInfo": {
     "elapsed": 833,
     "status": "ok",
     "timestamp": 1589381019447,
     "user": {
      "displayName": "Robert Draghici",
      "photoUrl": "",
      "userId": "10095612114476407977"
     },
     "user_tz": -180
    },
    "id": "5ihCG9RrfYnW",
    "outputId": "67deabe7-7b83-4617-b9e3-7039f6befa60"
   },
   "outputs": [
    {
     "name": "stdout",
     "output_type": "stream",
     "text": [
      "Mean number of characters in train set: 101.03743596479706\n",
      "Mean number of characters in test set: 102.10818265399939\n",
      "Mean number of characters in train set for target 0: 95.70681713496084\n",
      "Mean number of characters in train set fir target 1: 108.11342097217977\n"
     ]
    }
   ],
   "source": [
    "train[\"num_chars_before_cleaning\"] = train[\"text\"].apply(lambda x: len(str(x)))\n",
    "test[\"num_chars_before_cleaning\"] = test[\"text\"].apply(lambda x: len(str(x)))\n",
    "\n",
    "print(\"Mean number of characters in train set: \" + str(train[\"num_chars_before_cleaning\"].mean()))\n",
    "print(\"Mean number of characters in test set: \" + str(test[\"num_chars_before_cleaning\"].mean()))\n",
    "print(\"Mean number of characters in train set for target 0: \" + str(train[train.target.eq(0)][\"num_chars_before_cleaning\"].mean()))\n",
    "print(\"Mean number of characters in train set fir target 1: \" + str(train[train.target.eq(1)][\"num_chars_before_cleaning\"].mean()))"
   ]
  },
  {
   "cell_type": "code",
   "execution_count": 10,
   "metadata": {
    "colab": {
     "base_uri": "https://localhost:8080/",
     "height": 86
    },
    "colab_type": "code",
    "executionInfo": {
     "elapsed": 1294,
     "status": "ok",
     "timestamp": 1589381034715,
     "user": {
      "displayName": "Robert Draghici",
      "photoUrl": "",
      "userId": "10095612114476407977"
     },
     "user_tz": -180
    },
    "id": "jQD2LKlSfbNj",
    "outputId": "b037b73c-18d1-4c92-ecf9-f4555239538f"
   },
   "outputs": [
    {
     "name": "stdout",
     "output_type": "stream",
     "text": [
      "Mean number of stopwords in train set: 5.000131354262446\n",
      "Mean number of stopwords in test set: 4.9567882316886305\n",
      "Mean number of stopwords in train set for target 0: 5.328189774297559\n",
      "Mean number of stopwords in train set for target 1: 4.564659125649649\n"
     ]
    }
   ],
   "source": [
    "train[\"num_stopwords\"] = train[\"text\"].apply(lambda x: len([w for w in str(x).lower().split() if w in stopwords]))\n",
    "test[\"num_stopwords\"] = test[\"text\"].apply(lambda x: len([w for w in str(x).lower().split() if w in stopwords]))\n",
    "\n",
    "print(\"Mean number of stopwords in train set: \" + str(train[\"num_stopwords\"].mean()))\n",
    "print(\"Mean number of stopwords in test set: \" + str(test[\"num_stopwords\"].mean()))\n",
    "print(\"Mean number of stopwords in train set for target 0: \" + str(train[train.target.eq(0)][\"num_stopwords\"].mean()))\n",
    "print(\"Mean number of stopwords in train set for target 1: \" + str(train[train.target.eq(1)][\"num_stopwords\"].mean()))"
   ]
  },
  {
   "cell_type": "code",
   "execution_count": 11,
   "metadata": {
    "colab": {
     "base_uri": "https://localhost:8080/",
     "height": 86
    },
    "colab_type": "code",
    "executionInfo": {
     "elapsed": 1049,
     "status": "ok",
     "timestamp": 1589381045062,
     "user": {
      "displayName": "Robert Draghici",
      "photoUrl": "",
      "userId": "10095612114476407977"
     },
     "user_tz": -180
    },
    "id": "Fz1A-vuIfe1L",
    "outputId": "ca82d620-3c2b-40df-cbb0-274b4adc2d24"
   },
   "outputs": [
    {
     "name": "stdout",
     "output_type": "stream",
     "text": [
      "Mean number of punctuations in train set: 6.839485091291213\n",
      "Mean number of punctuations in test set: 6.9506589028501375\n",
      "Mean number of punctuations in train set for target 0: 6.30907415937356\n",
      "Mean number of punctuations in train set for target 1: 7.54356465912565\n"
     ]
    }
   ],
   "source": [
    "train[\"num_punctuations\"] =train['text'].apply(lambda x: len([c for c in str(x) if c in string.punctuation]) )\n",
    "test[\"num_punctuations\"] =test['text'].apply(lambda x: len([c for c in str(x) if c in string.punctuation]) )\n",
    "\n",
    "print(\"Mean number of punctuations in train set: \" + str(train[\"num_punctuations\"].mean()))\n",
    "print(\"Mean number of punctuations in test set: \" + str(test[\"num_punctuations\"].mean()))\n",
    "print(\"Mean number of punctuations in train set for target 0: \" + str(train[train.target.eq(0)][\"num_punctuations\"].mean()))\n",
    "print(\"Mean number of punctuations in train set for target 1: \" + str(train[train.target.eq(1)][\"num_punctuations\"].mean()))"
   ]
  },
  {
   "cell_type": "code",
   "execution_count": 12,
   "metadata": {
    "colab": {
     "base_uri": "https://localhost:8080/",
     "height": 86
    },
    "colab_type": "code",
    "executionInfo": {
     "elapsed": 1290,
     "status": "ok",
     "timestamp": 1589381050701,
     "user": {
      "displayName": "Robert Draghici",
      "photoUrl": "",
      "userId": "10095612114476407977"
     },
     "user_tz": -180
    },
    "id": "ffQZXAdIfhZ0",
    "outputId": "621b1f93-0345-45e6-8600-4d99f6024d32"
   },
   "outputs": [
    {
     "name": "stdout",
     "output_type": "stream",
     "text": [
      "Mean word length in train set: 6.128493903251796\n",
      "Mean word length in test set: 6.183041298176761\n",
      "Mean word length in train set for target 0: 5.871324779540672\n",
      "Mean word length in train set fir target 1: 6.469866063188727\n"
     ]
    }
   ],
   "source": [
    "train[\"mean_word_len_before_cleaning\"] = train[\"text\"].apply(lambda x: np.mean([len(w) for w in str(x).split()]))\n",
    "test[\"mean_word_len_before_cleaning\"] = test[\"text\"].apply(lambda x: np.mean([len(w) for w in str(x).split()]))\n",
    "\n",
    "print(\"Mean word length in train set: \" + str(train[\"mean_word_len_before_cleaning\"].mean()))\n",
    "print(\"Mean word length in test set: \" + str(test[\"mean_word_len_before_cleaning\"].mean()))\n",
    "print(\"Mean word length in train set for target 0: \" + str(train[train.target.eq(0)][\"mean_word_len_before_cleaning\"].mean()))\n",
    "print(\"Mean word length in train set fir target 1: \" + str(train[train.target.eq(1)][\"mean_word_len_before_cleaning\"].mean()))"
   ]
  },
  {
   "cell_type": "code",
   "execution_count": 13,
   "metadata": {
    "colab": {},
    "colab_type": "code",
    "id": "Y1dA7aqwfivl"
   },
   "outputs": [],
   "source": [
    "#removing url tags\n",
    "train['text'] = train['text'].apply(lambda x:removeurl(x))\n",
    "test['text'] = test['text'].apply(lambda x:removeurl(x))\n",
    "\n",
    "# data cleaning \n",
    "train['text'] = train['text'].apply(lambda x:spacy_tokenizer(x))\n",
    "test['text'] = test['text'].apply(lambda x:spacy_tokenizer(x))"
   ]
  },
  {
   "cell_type": "code",
   "execution_count": 14,
   "metadata": {
    "colab": {
     "base_uri": "https://localhost:8080/",
     "height": 260
    },
    "colab_type": "code",
    "executionInfo": {
     "elapsed": 695,
     "status": "ok",
     "timestamp": 1589381086167,
     "user": {
      "displayName": "Robert Draghici",
      "photoUrl": "",
      "userId": "10095612114476407977"
     },
     "user_tz": -180
    },
    "id": "kH1Pousgfocc",
    "outputId": "487c6573-de9b-4757-80c0-19cdd2c5abbb"
   },
   "outputs": [
    {
     "name": "stdout",
     "output_type": "stream",
     "text": [
      "         id keyword location  \\\n",
      "0         1     NaN      NaN   \n",
      "1         4     NaN      NaN   \n",
      "2         5     NaN      NaN   \n",
      "3         6     NaN      NaN   \n",
      "4         7     NaN      NaN   \n",
      "...     ...     ...      ...   \n",
      "7608  10869     NaN      NaN   \n",
      "7609  10870     NaN      NaN   \n",
      "7610  10871     NaN      NaN   \n",
      "7611  10872     NaN      NaN   \n",
      "7612  10873     NaN      NaN   \n",
      "\n",
      "                                                   text  target  \\\n",
      "0                 deeds reason earthquake allah forgive       1   \n",
      "1                 forest fire near la ronge sask canada       1   \n",
      "2     residents asked shelter place notified officer...       1   \n",
      "3     13,000 people receive wildfires evacuation ord...       1   \n",
      "4     got sent photo ruby alaska smoke wildfires pou...       1   \n",
      "...                                                 ...     ...   \n",
      "7608  giant cranes holding bridge collapse nearby ho...       1   \n",
      "7609  @aria_ahrary @thetawniest control wild fires c...       1   \n",
      "7610  m1.94 01:04 utc]?5 km s volcano hawaii http://...       1   \n",
      "7611  police investigating e bike collided car littl...       1   \n",
      "7612  latest homes razed northern california wildfir...       1   \n",
      "\n",
      "      num_words_before_cleaning  num_unique_words_before_cleaning  \\\n",
      "0                            13                                13   \n",
      "1                             7                                 7   \n",
      "2                            22                                20   \n",
      "3                             8                                 8   \n",
      "4                            16                                15   \n",
      "...                         ...                               ...   \n",
      "7608                         11                                11   \n",
      "7609                         20                                17   \n",
      "7610                          8                                 8   \n",
      "7611                         19                                19   \n",
      "7612                         13                                13   \n",
      "\n",
      "      num_chars_before_cleaning  num_stopwords  num_punctuations  \\\n",
      "0                            69              8                 1   \n",
      "1                            38              0                 1   \n",
      "2                           133             11                 3   \n",
      "3                            65              1                 2   \n",
      "4                            88              7                 2   \n",
      "...                         ...            ...               ...   \n",
      "7608                         83              3                 5   \n",
      "7609                        125             11                 5   \n",
      "7610                         65              1                11   \n",
      "7611                        137              6                 5   \n",
      "7612                         94              3                 7   \n",
      "\n",
      "      mean_word_len_before_cleaning  \n",
      "0                          4.384615  \n",
      "1                          4.571429  \n",
      "2                          5.090909  \n",
      "3                          7.125000  \n",
      "4                          4.500000  \n",
      "...                             ...  \n",
      "7608                       6.636364  \n",
      "7609                       5.300000  \n",
      "7610                       7.250000  \n",
      "7611                       6.263158  \n",
      "7612                       6.307692  \n",
      "\n",
      "[7613 rows x 11 columns]\n"
     ]
    }
   ],
   "source": [
    "print(train)"
   ]
  },
  {
   "cell_type": "markdown",
   "metadata": {
    "colab_type": "text",
    "id": "7N7MlCaqfxVa"
   },
   "source": [
    "# Data exploration"
   ]
  },
  {
   "cell_type": "markdown",
   "metadata": {
    "colab_type": "text",
    "id": "q0MIEdTJf2qJ"
   },
   "source": [
    "Calculate the maximum number of tokens that a text can have in both train and test sets."
   ]
  },
  {
   "cell_type": "code",
   "execution_count": 15,
   "metadata": {
    "colab": {},
    "colab_type": "code",
    "id": "ALsnaViOfriW"
   },
   "outputs": [],
   "source": [
    "def calculate_nr_words(text):\n",
    "    return len(text.split(\" \"))"
   ]
  },
  {
   "cell_type": "code",
   "execution_count": 16,
   "metadata": {
    "colab": {
     "base_uri": "https://localhost:8080/",
     "height": 52
    },
    "colab_type": "code",
    "executionInfo": {
     "elapsed": 814,
     "status": "ok",
     "timestamp": 1589381183745,
     "user": {
      "displayName": "Robert Draghici",
      "photoUrl": "",
      "userId": "10095612114476407977"
     },
     "user_tz": -180
    },
    "id": "nFS1bf7Tfzk5",
    "outputId": "acfba9db-0efe-400d-f6d2-87642eeee2ba"
   },
   "outputs": [
    {
     "name": "stdout",
     "output_type": "stream",
     "text": [
      "25\n",
      "23\n"
     ]
    }
   ],
   "source": [
    "print(max(train['text'].apply(calculate_nr_words)))\n",
    "print(max(test['text'].apply(calculate_nr_words)))"
   ]
  },
  {
   "cell_type": "markdown",
   "metadata": {
    "colab_type": "text",
    "id": "HvURJU92gJY2"
   },
   "source": [
    "Analyze the target distribution."
   ]
  },
  {
   "cell_type": "code",
   "execution_count": 17,
   "metadata": {
    "colab": {
     "base_uri": "https://localhost:8080/",
     "height": 52
    },
    "colab_type": "code",
    "executionInfo": {
     "elapsed": 1012,
     "status": "ok",
     "timestamp": 1589381216592,
     "user": {
      "displayName": "Robert Draghici",
      "photoUrl": "",
      "userId": "10095612114476407977"
     },
     "user_tz": -180
    },
    "id": "59xc39XvgDVM",
    "outputId": "fda81ad3-408f-4974-c2fe-39da362e837b"
   },
   "outputs": [
    {
     "name": "stdout",
     "output_type": "stream",
     "text": [
      "57 % of the data represents tweets that are not about real disasters\n",
      "43 % of the data represents tweets that are about real disasters\n"
     ]
    }
   ],
   "source": [
    "x = train['target'].value_counts()\n",
    "non_real_disaster_tweets = x[0] * 100 / len(train['target'])\n",
    "real_disaster_tweets = x[1] * 100 / len(train['target'])\n",
    "print(\"%1.f %% of the data represents tweets that are not about real disasters\" % (non_real_disaster_tweets))\n",
    "print(\"%1.f %% of the data represents tweets that are about real disasters\" % real_disaster_tweets)"
   ]
  },
  {
   "cell_type": "markdown",
   "metadata": {
    "colab_type": "text",
    "id": "spk4ppK2gPsx"
   },
   "source": [
    "Analyze the first rows for each target type."
   ]
  },
  {
   "cell_type": "code",
   "execution_count": 18,
   "metadata": {
    "colab": {
     "base_uri": "https://localhost:8080/",
     "height": 295
    },
    "colab_type": "code",
    "executionInfo": {
     "elapsed": 1435,
     "status": "ok",
     "timestamp": 1589381245447,
     "user": {
      "displayName": "Robert Draghici",
      "photoUrl": "",
      "userId": "10095612114476407977"
     },
     "user_tz": -180
    },
    "id": "pGCIj1mygLTd",
    "outputId": "aa941f1f-eb7c-49c7-b3e5-3956b626cffc"
   },
   "outputs": [
    {
     "data": {
      "text/plain": [
       "15                 man\n",
       "16         love fruits\n",
       "17       summer lovely\n",
       "18            car fast\n",
       "19     goooooooaaaaaal\n",
       "20     ridiculous ....\n",
       "21      london cool ;)\n",
       "22         love skiing\n",
       "23       wonderful day\n",
       "24            looooool\n",
       "25    way ... eat shit\n",
       "26            nyc week\n",
       "27     love girlfriend\n",
       "28           cooool :)\n",
       "29          like pasta\n",
       "Name: text, dtype: object"
      ]
     },
     "execution_count": 18,
     "metadata": {},
     "output_type": "execute_result"
    }
   ],
   "source": [
    "train[train.target.eq(0)]['text'].head(15)"
   ]
  },
  {
   "cell_type": "code",
   "execution_count": 19,
   "metadata": {
    "colab": {
     "base_uri": "https://localhost:8080/",
     "height": 295
    },
    "colab_type": "code",
    "executionInfo": {
     "elapsed": 891,
     "status": "ok",
     "timestamp": 1589381256135,
     "user": {
      "displayName": "Robert Draghici",
      "photoUrl": "",
      "userId": "10095612114476407977"
     },
     "user_tz": -180
    },
    "id": "TZmG1kTvgSNu",
    "outputId": "d11abff4-e827-4938-8267-019d1aeb10a1"
   },
   "outputs": [
    {
     "data": {
      "text/plain": [
       "0                 deeds reason earthquake allah forgive\n",
       "1                 forest fire near la ronge sask canada\n",
       "2     residents asked shelter place notified officer...\n",
       "3     13,000 people receive wildfires evacuation ord...\n",
       "4     got sent photo ruby alaska smoke wildfires pou...\n",
       "5     rockyfire update california hwy 20 closed dire...\n",
       "6     flood disaster heavy rain causes flash floodin...\n",
       "7                                   hill fire woods ...\n",
       "8        emergency evacuation happening building street\n",
       "9                        afraid tornado coming area ...\n",
       "10                            people died heat wave far\n",
       "11    haha south tampa getting flooded hah- wait sec...\n",
       "12    raining flooding florida tampabay tampa 18 19 ...\n",
       "13                      flood bago myanmar arrived bago\n",
       "14        damage school bus 80 multi car crash breaking\n",
       "Name: text, dtype: object"
      ]
     },
     "execution_count": 19,
     "metadata": {},
     "output_type": "execute_result"
    }
   ],
   "source": [
    "train[train.target.eq(1)]['text'].head(15)"
   ]
  },
  {
   "cell_type": "markdown",
   "metadata": {
    "colab_type": "text",
    "id": "MMPzRmxqgaEo"
   },
   "source": [
    "In the above tables, I can see that the tweets related to real disasters contain more words than the tweets not related to real disasters after cleaning."
   ]
  },
  {
   "cell_type": "code",
   "execution_count": 20,
   "metadata": {
    "colab": {
     "base_uri": "https://localhost:8080/",
     "height": 104
    },
    "colab_type": "code",
    "executionInfo": {
     "elapsed": 818,
     "status": "ok",
     "timestamp": 1589381286505,
     "user": {
      "displayName": "Robert Draghici",
      "photoUrl": "",
      "userId": "10095612114476407977"
     },
     "user_tz": -180
    },
    "id": "OHOMvmpEgU_h",
    "outputId": "56b37046-b529-4ab4-8620-d7fe40220f4e"
   },
   "outputs": [
    {
     "data": {
      "text/plain": [
       "count     4342\n",
       "unique    4278\n",
       "top           \n",
       "freq        26\n",
       "Name: text, dtype: object"
      ]
     },
     "execution_count": 20,
     "metadata": {},
     "output_type": "execute_result"
    }
   ],
   "source": [
    "train[train.target.eq(0)]['text'].describe()"
   ]
  },
  {
   "cell_type": "code",
   "execution_count": 21,
   "metadata": {
    "colab": {
     "base_uri": "https://localhost:8080/",
     "height": 330
    },
    "colab_type": "code",
    "executionInfo": {
     "elapsed": 817,
     "status": "ok",
     "timestamp": 1589381295344,
     "user": {
      "displayName": "Robert Draghici",
      "photoUrl": "",
      "userId": "10095612114476407977"
     },
     "user_tz": -180
    },
    "id": "7cvSqW4hgcaw",
    "outputId": "3c113bf3-b8bd-4955-840a-50cc943763b1"
   },
   "outputs": [
    {
     "name": "stdout",
     "output_type": "stream",
     "text": [
      "<class 'pandas.core.frame.DataFrame'>\n",
      "Int64Index: 4342 entries, 15 to 7593\n",
      "Data columns (total 11 columns):\n",
      " #   Column                            Non-Null Count  Dtype  \n",
      "---  ------                            --------------  -----  \n",
      " 0   id                                4342 non-null   int64  \n",
      " 1   keyword                           4323 non-null   object \n",
      " 2   location                          2884 non-null   object \n",
      " 3   text                              4342 non-null   object \n",
      " 4   target                            4342 non-null   int64  \n",
      " 5   num_words_before_cleaning         4342 non-null   int64  \n",
      " 6   num_unique_words_before_cleaning  4342 non-null   int64  \n",
      " 7   num_chars_before_cleaning         4342 non-null   int64  \n",
      " 8   num_stopwords                     4342 non-null   int64  \n",
      " 9   num_punctuations                  4342 non-null   int64  \n",
      " 10  mean_word_len_before_cleaning     4342 non-null   float64\n",
      "dtypes: float64(1), int64(7), object(3)\n",
      "memory usage: 407.1+ KB\n"
     ]
    }
   ],
   "source": [
    "train[train.target.eq(0)].info()"
   ]
  },
  {
   "cell_type": "code",
   "execution_count": 22,
   "metadata": {
    "colab": {
     "base_uri": "https://localhost:8080/",
     "height": 104
    },
    "colab_type": "code",
    "executionInfo": {
     "elapsed": 974,
     "status": "ok",
     "timestamp": 1589381306327,
     "user": {
      "displayName": "Robert Draghici",
      "photoUrl": "",
      "userId": "10095612114476407977"
     },
     "user_tz": -180
    },
    "id": "xGB1fDx-gek3",
    "outputId": "1e301bcc-8bcc-4795-907c-a142617cdfe0"
   },
   "outputs": [
    {
     "data": {
      "text/plain": [
       "count     3271\n",
       "unique    3182\n",
       "top           \n",
       "freq        24\n",
       "Name: text, dtype: object"
      ]
     },
     "execution_count": 22,
     "metadata": {},
     "output_type": "execute_result"
    }
   ],
   "source": [
    "train[train.target.eq(1)]['text'].describe()"
   ]
  },
  {
   "cell_type": "code",
   "execution_count": 23,
   "metadata": {
    "colab": {
     "base_uri": "https://localhost:8080/",
     "height": 330
    },
    "colab_type": "code",
    "executionInfo": {
     "elapsed": 777,
     "status": "ok",
     "timestamp": 1589381314995,
     "user": {
      "displayName": "Robert Draghici",
      "photoUrl": "",
      "userId": "10095612114476407977"
     },
     "user_tz": -180
    },
    "id": "M5yDGHmlghNw",
    "outputId": "0b83644b-2143-48ee-bca8-20a1203d2575"
   },
   "outputs": [
    {
     "name": "stdout",
     "output_type": "stream",
     "text": [
      "<class 'pandas.core.frame.DataFrame'>\n",
      "Int64Index: 3271 entries, 0 to 7612\n",
      "Data columns (total 11 columns):\n",
      " #   Column                            Non-Null Count  Dtype  \n",
      "---  ------                            --------------  -----  \n",
      " 0   id                                3271 non-null   int64  \n",
      " 1   keyword                           3229 non-null   object \n",
      " 2   location                          2196 non-null   object \n",
      " 3   text                              3271 non-null   object \n",
      " 4   target                            3271 non-null   int64  \n",
      " 5   num_words_before_cleaning         3271 non-null   int64  \n",
      " 6   num_unique_words_before_cleaning  3271 non-null   int64  \n",
      " 7   num_chars_before_cleaning         3271 non-null   int64  \n",
      " 8   num_stopwords                     3271 non-null   int64  \n",
      " 9   num_punctuations                  3271 non-null   int64  \n",
      " 10  mean_word_len_before_cleaning     3271 non-null   float64\n",
      "dtypes: float64(1), int64(7), object(3)\n",
      "memory usage: 306.7+ KB\n"
     ]
    }
   ],
   "source": [
    "train[train.target.eq(1)].info()"
   ]
  },
  {
   "cell_type": "code",
   "execution_count": 24,
   "metadata": {
    "colab": {
     "base_uri": "https://localhost:8080/",
     "height": 320
    },
    "colab_type": "code",
    "executionInfo": {
     "elapsed": 836,
     "status": "ok",
     "timestamp": 1589381320966,
     "user": {
      "displayName": "Robert Draghici",
      "photoUrl": "",
      "userId": "10095612114476407977"
     },
     "user_tz": -180
    },
    "id": "Rla-Cd1EgjYX",
    "outputId": "a94ab7ec-f058-4921-d8a7-462b35d606cc"
   },
   "outputs": [
    {
     "data": {
      "text/html": [
       "<div>\n",
       "<style scoped>\n",
       "    .dataframe tbody tr th:only-of-type {\n",
       "        vertical-align: middle;\n",
       "    }\n",
       "\n",
       "    .dataframe tbody tr th {\n",
       "        vertical-align: top;\n",
       "    }\n",
       "\n",
       "    .dataframe thead th {\n",
       "        text-align: right;\n",
       "    }\n",
       "</style>\n",
       "<table border=\"1\" class=\"dataframe\">\n",
       "  <thead>\n",
       "    <tr style=\"text-align: right;\">\n",
       "      <th></th>\n",
       "      <th>id</th>\n",
       "      <th>target</th>\n",
       "      <th>num_words_before_cleaning</th>\n",
       "      <th>num_unique_words_before_cleaning</th>\n",
       "      <th>num_chars_before_cleaning</th>\n",
       "      <th>num_stopwords</th>\n",
       "      <th>num_punctuations</th>\n",
       "      <th>mean_word_len_before_cleaning</th>\n",
       "    </tr>\n",
       "  </thead>\n",
       "  <tbody>\n",
       "    <tr>\n",
       "      <th>count</th>\n",
       "      <td>7613.000000</td>\n",
       "      <td>7613.00000</td>\n",
       "      <td>7613.000000</td>\n",
       "      <td>7613.000000</td>\n",
       "      <td>7613.000000</td>\n",
       "      <td>7613.000000</td>\n",
       "      <td>7613.000000</td>\n",
       "      <td>7613.000000</td>\n",
       "    </tr>\n",
       "    <tr>\n",
       "      <th>mean</th>\n",
       "      <td>5441.934848</td>\n",
       "      <td>0.42966</td>\n",
       "      <td>14.903586</td>\n",
       "      <td>14.340733</td>\n",
       "      <td>101.037436</td>\n",
       "      <td>5.000131</td>\n",
       "      <td>6.839485</td>\n",
       "      <td>6.128494</td>\n",
       "    </tr>\n",
       "    <tr>\n",
       "      <th>std</th>\n",
       "      <td>3137.116090</td>\n",
       "      <td>0.49506</td>\n",
       "      <td>5.732604</td>\n",
       "      <td>5.277160</td>\n",
       "      <td>33.781325</td>\n",
       "      <td>3.703633</td>\n",
       "      <td>4.608758</td>\n",
       "      <td>1.675464</td>\n",
       "    </tr>\n",
       "    <tr>\n",
       "      <th>min</th>\n",
       "      <td>1.000000</td>\n",
       "      <td>0.00000</td>\n",
       "      <td>1.000000</td>\n",
       "      <td>1.000000</td>\n",
       "      <td>7.000000</td>\n",
       "      <td>0.000000</td>\n",
       "      <td>0.000000</td>\n",
       "      <td>2.250000</td>\n",
       "    </tr>\n",
       "    <tr>\n",
       "      <th>25%</th>\n",
       "      <td>2734.000000</td>\n",
       "      <td>0.00000</td>\n",
       "      <td>11.000000</td>\n",
       "      <td>11.000000</td>\n",
       "      <td>78.000000</td>\n",
       "      <td>2.000000</td>\n",
       "      <td>3.000000</td>\n",
       "      <td>4.875000</td>\n",
       "    </tr>\n",
       "    <tr>\n",
       "      <th>50%</th>\n",
       "      <td>5408.000000</td>\n",
       "      <td>0.00000</td>\n",
       "      <td>15.000000</td>\n",
       "      <td>14.000000</td>\n",
       "      <td>107.000000</td>\n",
       "      <td>4.000000</td>\n",
       "      <td>6.000000</td>\n",
       "      <td>5.928571</td>\n",
       "    </tr>\n",
       "    <tr>\n",
       "      <th>75%</th>\n",
       "      <td>8146.000000</td>\n",
       "      <td>1.00000</td>\n",
       "      <td>19.000000</td>\n",
       "      <td>18.000000</td>\n",
       "      <td>133.000000</td>\n",
       "      <td>7.000000</td>\n",
       "      <td>10.000000</td>\n",
       "      <td>7.058824</td>\n",
       "    </tr>\n",
       "    <tr>\n",
       "      <th>max</th>\n",
       "      <td>10873.000000</td>\n",
       "      <td>1.00000</td>\n",
       "      <td>31.000000</td>\n",
       "      <td>29.000000</td>\n",
       "      <td>157.000000</td>\n",
       "      <td>20.000000</td>\n",
       "      <td>61.000000</td>\n",
       "      <td>19.333333</td>\n",
       "    </tr>\n",
       "  </tbody>\n",
       "</table>\n",
       "</div>"
      ],
      "text/plain": [
       "                 id      target  num_words_before_cleaning  \\\n",
       "count   7613.000000  7613.00000                7613.000000   \n",
       "mean    5441.934848     0.42966                  14.903586   \n",
       "std     3137.116090     0.49506                   5.732604   \n",
       "min        1.000000     0.00000                   1.000000   \n",
       "25%     2734.000000     0.00000                  11.000000   \n",
       "50%     5408.000000     0.00000                  15.000000   \n",
       "75%     8146.000000     1.00000                  19.000000   \n",
       "max    10873.000000     1.00000                  31.000000   \n",
       "\n",
       "       num_unique_words_before_cleaning  num_chars_before_cleaning  \\\n",
       "count                       7613.000000                7613.000000   \n",
       "mean                          14.340733                 101.037436   \n",
       "std                            5.277160                  33.781325   \n",
       "min                            1.000000                   7.000000   \n",
       "25%                           11.000000                  78.000000   \n",
       "50%                           14.000000                 107.000000   \n",
       "75%                           18.000000                 133.000000   \n",
       "max                           29.000000                 157.000000   \n",
       "\n",
       "       num_stopwords  num_punctuations  mean_word_len_before_cleaning  \n",
       "count    7613.000000       7613.000000                    7613.000000  \n",
       "mean        5.000131          6.839485                       6.128494  \n",
       "std         3.703633          4.608758                       1.675464  \n",
       "min         0.000000          0.000000                       2.250000  \n",
       "25%         2.000000          3.000000                       4.875000  \n",
       "50%         4.000000          6.000000                       5.928571  \n",
       "75%         7.000000         10.000000                       7.058824  \n",
       "max        20.000000         61.000000                      19.333333  "
      ]
     },
     "execution_count": 24,
     "metadata": {},
     "output_type": "execute_result"
    }
   ],
   "source": [
    "train.describe()"
   ]
  },
  {
   "cell_type": "code",
   "execution_count": 25,
   "metadata": {
    "colab": {
     "base_uri": "https://localhost:8080/",
     "height": 330
    },
    "colab_type": "code",
    "executionInfo": {
     "elapsed": 909,
     "status": "ok",
     "timestamp": 1589381667323,
     "user": {
      "displayName": "Robert Draghici",
      "photoUrl": "",
      "userId": "10095612114476407977"
     },
     "user_tz": -180
    },
    "id": "rz7AEFrWgk1d",
    "outputId": "8f764334-37c5-421a-e163-1c3492c11b98"
   },
   "outputs": [
    {
     "name": "stdout",
     "output_type": "stream",
     "text": [
      "<class 'pandas.core.frame.DataFrame'>\n",
      "RangeIndex: 7613 entries, 0 to 7612\n",
      "Data columns (total 11 columns):\n",
      " #   Column                            Non-Null Count  Dtype  \n",
      "---  ------                            --------------  -----  \n",
      " 0   id                                7613 non-null   int64  \n",
      " 1   keyword                           7552 non-null   object \n",
      " 2   location                          5080 non-null   object \n",
      " 3   text                              7613 non-null   object \n",
      " 4   target                            7613 non-null   int64  \n",
      " 5   num_words_before_cleaning         7613 non-null   int64  \n",
      " 6   num_unique_words_before_cleaning  7613 non-null   int64  \n",
      " 7   num_chars_before_cleaning         7613 non-null   int64  \n",
      " 8   num_stopwords                     7613 non-null   int64  \n",
      " 9   num_punctuations                  7613 non-null   int64  \n",
      " 10  mean_word_len_before_cleaning     7613 non-null   float64\n",
      "dtypes: float64(1), int64(7), object(3)\n",
      "memory usage: 654.4+ KB\n"
     ]
    }
   ],
   "source": [
    "train.info()"
   ]
  },
  {
   "cell_type": "code",
   "execution_count": 26,
   "metadata": {
    "colab": {
     "base_uri": "https://localhost:8080/",
     "height": 86
    },
    "colab_type": "code",
    "executionInfo": {
     "elapsed": 873,
     "status": "ok",
     "timestamp": 1589381697435,
     "user": {
      "displayName": "Robert Draghici",
      "photoUrl": "",
      "userId": "10095612114476407977"
     },
     "user_tz": -180
    },
    "id": "YrTbjlBniAaH",
    "outputId": "d216320c-f9a8-4eac-faa7-00d880a73a7c"
   },
   "outputs": [
    {
     "name": "stdout",
     "output_type": "stream",
     "text": [
      "Mean number of words in train set: 9.49073952449757\n",
      "Mean number of words in test set: 9.615078148942692\n",
      "Mean number of words in train set for target 0: 8.808613542146476\n",
      "Mean number of words in train set fir target 1: 10.396209110363802\n"
     ]
    }
   ],
   "source": [
    "train[\"num_words\"] = train[\"text\"].apply(lambda x: len(str(x).split()))\n",
    "test[\"num_words\"] = test[\"text\"].apply(lambda x: len(str(x).split()))\n",
    "\n",
    "print(\"Mean number of words in train set: \" + str(train[\"num_words\"].mean()))\n",
    "print(\"Mean number of words in test set: \" + str(test[\"num_words\"].mean()))\n",
    "print(\"Mean number of words in train set for target 0: \" + str(train[train.target.eq(0)][\"num_words\"].mean()))\n",
    "print(\"Mean number of words in train set fir target 1: \" + str(train[train.target.eq(1)][\"num_words\"].mean()))"
   ]
  },
  {
   "cell_type": "code",
   "execution_count": 27,
   "metadata": {
    "colab": {
     "base_uri": "https://localhost:8080/",
     "height": 86
    },
    "colab_type": "code",
    "executionInfo": {
     "elapsed": 883,
     "status": "ok",
     "timestamp": 1589381707292,
     "user": {
      "displayName": "Robert Draghici",
      "photoUrl": "",
      "userId": "10095612114476407977"
     },
     "user_tz": -180
    },
    "id": "aezSYLzXiBcR",
    "outputId": "40e63ad6-6c3a-4eec-de4c-30ce1c126f18"
   },
   "outputs": [
    {
     "name": "stdout",
     "output_type": "stream",
     "text": [
      "Mean number of unique words in train set: 9.255484040457112\n",
      "Mean number of unique words in test set: 9.385841250383082\n",
      "Mean number of unique words in train set for target 0: 8.620451404882543\n",
      "Mean number of unique words in train set fir target 1: 10.098440843778661\n"
     ]
    }
   ],
   "source": [
    "train[\"num_unique_words\"] = train[\"text\"].apply(lambda x: len(set(str(x).split())))\n",
    "test[\"num_unique_words\"] = test[\"text\"].apply(lambda x: len(set(str(x).split())))\n",
    "\n",
    "print(\"Mean number of unique words in train set: \" + str(train[\"num_unique_words\"].mean()))\n",
    "print(\"Mean number of unique words in test set: \" + str(test[\"num_unique_words\"].mean()))\n",
    "print(\"Mean number of unique words in train set for target 0: \" + str(train[train.target.eq(0)][\"num_unique_words\"].mean()))\n",
    "print(\"Mean number of unique words in train set fir target 1: \" + str(train[train.target.eq(1)][\"num_unique_words\"].mean()))"
   ]
  },
  {
   "cell_type": "code",
   "execution_count": 28,
   "metadata": {
    "colab": {
     "base_uri": "https://localhost:8080/",
     "height": 121
    },
    "colab_type": "code",
    "executionInfo": {
     "elapsed": 925,
     "status": "ok",
     "timestamp": 1589381717635,
     "user": {
      "displayName": "Robert Draghici",
      "photoUrl": "",
      "userId": "10095612114476407977"
     },
     "user_tz": -180
    },
    "id": "3IMdcl83iDu5",
    "outputId": "f0f9d68d-a856-4043-a491-2a383e3ddcd3"
   },
   "outputs": [
    {
     "name": "stderr",
     "output_type": "stream",
     "text": [
      "/usr/local/lib/python3.7/site-packages/numpy/core/fromnumeric.py:3257: RuntimeWarning: Mean of empty slice.\n",
      "  out=out, **kwargs)\n"
     ]
    },
    {
     "name": "stdout",
     "output_type": "stream",
     "text": [
      "Mean word length in train set: 7.266202186609272\n",
      "Mean word length in test set: 7.3111581972149695\n",
      "Mean word length in train set for target 0: 7.078760130626297\n",
      "Mean word length in train set fir target 1: 7.51535522437414\n"
     ]
    }
   ],
   "source": [
    "train[\"mean_word_len\"] = train[\"text\"].apply(lambda x: np.mean([len(w) for w in str(x).split()]))\n",
    "test[\"mean_word_len\"] = test[\"text\"].apply(lambda x: np.mean([len(w) for w in str(x).split()]))\n",
    "\n",
    "print(\"Mean word length in train set: \" + str(train[\"mean_word_len\"].mean()))\n",
    "print(\"Mean word length in test set: \" + str(test[\"mean_word_len\"].mean()))\n",
    "print(\"Mean word length in train set for target 0: \" + str(train[train.target.eq(0)][\"mean_word_len\"].mean()))\n",
    "print(\"Mean word length in train set fir target 1: \" + str(train[train.target.eq(1)][\"mean_word_len\"].mean()))"
   ]
  },
  {
   "cell_type": "code",
   "execution_count": 29,
   "metadata": {
    "colab": {
     "base_uri": "https://localhost:8080/",
     "height": 86
    },
    "colab_type": "code",
    "executionInfo": {
     "elapsed": 818,
     "status": "ok",
     "timestamp": 1589381679154,
     "user": {
      "displayName": "Robert Draghici",
      "photoUrl": "",
      "userId": "10095612114476407977"
     },
     "user_tz": -180
    },
    "id": "BUwN_VA0h5XW",
    "outputId": "24da3b5b-d92f-4440-8f57-d42513c7d7b3"
   },
   "outputs": [
    {
     "name": "stdout",
     "output_type": "stream",
     "text": [
      "Mean number of characters in train set: 75.9762248784973\n",
      "Mean number of characters in test set: 77.26417407293901\n",
      "Mean number of characters in train set for target 0: 68.87701520036849\n",
      "Mean number of characters in train set fir target 1: 85.39987771323754\n"
     ]
    }
   ],
   "source": [
    "train[\"num_chars\"] = train[\"text\"].apply(lambda x: len(str(x)))\n",
    "test[\"num_chars\"] = test[\"text\"].apply(lambda x: len(str(x)))\n",
    "\n",
    "print(\"Mean number of characters in train set: \" + str(train[\"num_chars\"].mean()))\n",
    "print(\"Mean number of characters in test set: \" + str(test[\"num_chars\"].mean()))\n",
    "print(\"Mean number of characters in train set for target 0: \" + str(train[train.target.eq(0)][\"num_chars\"].mean()))\n",
    "print(\"Mean number of characters in train set fir target 1: \" + str(train[train.target.eq(1)][\"num_chars\"].mean()))"
   ]
  }
 ],
 "metadata": {
  "colab": {
   "authorship_tag": "ABX9TyNy4IHFkh486lAVqMg9sycY",
   "collapsed_sections": [],
   "name": "Data exploration.ipynb",
   "provenance": []
  },
  "kernelspec": {
   "display_name": "Python 3",
   "language": "python",
   "name": "python3"
  },
  "language_info": {
   "codemirror_mode": {
    "name": "ipython",
    "version": 3
   },
   "file_extension": ".py",
   "mimetype": "text/x-python",
   "name": "python",
   "nbconvert_exporter": "python",
   "pygments_lexer": "ipython3",
   "version": "3.7.0"
  }
 },
 "nbformat": 4,
 "nbformat_minor": 4
}
